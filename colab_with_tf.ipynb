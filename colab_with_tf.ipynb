{
  "nbformat": 4,
  "nbformat_minor": 0,
  "metadata": {
    "colab": {
      "name": "colab_with_tf.ipynb",
      "provenance": [],
      "collapsed_sections": [],
      "authorship_tag": "ABX9TyOp05Utnf5AIIoNxCpIR+U4",
      "include_colab_link": true
    },
    "kernelspec": {
      "name": "python3",
      "display_name": "Python 3"
    },
    "language_info": {
      "name": "python"
    }
  },
  "cells": [
    {
      "cell_type": "markdown",
      "metadata": {
        "id": "view-in-github",
        "colab_type": "text"
      },
      "source": [
        "<a href=\"https://colab.research.google.com/github/glmrz/colab_tf/blob/main/colab_with_tf.ipynb\" target=\"_parent\"><img src=\"https://colab.research.google.com/assets/colab-badge.svg\" alt=\"Open In Colab\"/></a>"
      ]
    },
    {
      "cell_type": "markdown",
      "source": [
        "Pythagorean theorem:\n",
        "x^2 + y^2 = z^2\n"
      ],
      "metadata": {
        "id": "ZM7-Ih7UFMQ_"
      }
    },
    {
      "cell_type": "code",
      "execution_count": null,
      "metadata": {
        "id": "jnLoYkLJFJiE"
      },
      "outputs": [],
      "source": [
        "import math\n",
        "\n",
        "def pythTheorem(x, y):\n",
        "  z = x*x + y*y\n",
        "  a = math.sqrt(z)\n",
        "\n",
        "  return a\n"
      ]
    },
    {
      "cell_type": "code",
      "source": [
        "pythTheorem(5,3)"
      ],
      "metadata": {
        "colab": {
          "base_uri": "https://localhost:8080/"
        },
        "id": "YSYgQ3hZF-y9",
        "outputId": "218c919c-d55e-437b-fe96-4b2531580298"
      },
      "execution_count": null,
      "outputs": [
        {
          "output_type": "execute_result",
          "data": {
            "text/plain": [
              "5.830951894845301"
            ]
          },
          "metadata": {},
          "execution_count": 7
        }
      ]
    },
    {
      "cell_type": "code",
      "source": [
        ""
      ],
      "metadata": {
        "id": "5N5BYuBYIGvu"
      },
      "execution_count": null,
      "outputs": []
    }
  ]
}